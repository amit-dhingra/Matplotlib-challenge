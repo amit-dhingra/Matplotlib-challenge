{
 "cells": [
  {
   "cell_type": "markdown",
   "metadata": {},
   "source": [
    "## Observations and Insights"
   ]
  },
  {
   "cell_type": "markdown",
   "metadata": {},
   "source": [
    "## 1. The tumor volume has a positive correlation with the weight of the mice\n",
    "## 2.  In the line plot the volume of the tumor increases and decreases with timepoint for mouse_id = b128\n"
   ]
  },
  {
   "cell_type": "markdown",
   "metadata": {},
   "source": [
    "## Dependencies and starter code"
   ]
  },
  {
   "cell_type": "code",
   "execution_count": null,
   "metadata": {},
   "outputs": [],
   "source": [
    "# Dependencies and Setup\n",
    "import matplotlib.pyplot as plt\n",
    "import numpy as np\n",
    "import pandas as pd\n",
    "import scipy.stats as st\n",
    "from scipy.stats import linregress\n",
    "\n",
    "# Study data files\n",
    "mouse_metadata = \"data/Mouse_metadata.csv\"\n",
    "study_results = \"data/Study_results.csv\"\n",
    "\n",
    "# Read the mouse data and the study results\n",
    "mouse_metadata = pd.read_csv(mouse_metadata)\n",
    "study_results = pd.read_csv(study_results)\n",
    "\n",
    "\n",
    "# Combine the data into a single dataset\n",
    "Mouse_Study_combined_df = pd.merge(study_results, mouse_metadata, on=\"Mouse ID\")\n",
    "Mouse_Study_combined_df\n",
    "\n"
   ]
  },
  {
   "cell_type": "markdown",
   "metadata": {},
   "source": [
    "## Summary statistics"
   ]
  },
  {
   "cell_type": "code",
   "execution_count": null,
   "metadata": {},
   "outputs": [],
   "source": [
    "# Generate a summary statistics table of mean, median, variance, standard deviation, and SEM of the tumor volume for each regimen\n",
    "drug_summary_df=Mouse_Study_combined_df.groupby(['Drug Regimen'])['Tumor Volume (mm3)'].agg({'Mean':np.mean, 'SD':np.std,'Variance':np.var,'Median':np.median,'SEM':st.sem}).reset_index()\n",
    "drug_summary_df\n"
   ]
  },
  {
   "cell_type": "markdown",
   "metadata": {},
   "source": [
    "## Bar plots"
   ]
  },
  {
   "cell_type": "code",
   "execution_count": null,
   "metadata": {},
   "outputs": [],
   "source": [
    "# Generate a bar plot showing number of data points for each treatment regimen using pandas\n",
    "drug_list = drug_summary_df['Drug Regimen']\n",
    "my_colors = list(['b', 'r', 'g', 'y', 'k'])\n",
    "multi_plot = drug_summary_df.plot(kind=\"bar\", figsize=(15,10),color=my_colors)\n",
    "multi_plot.set_xticklabels(drug_list)\n",
    "multi_plot.set_ylabel(\"Tumor Volume (mm3)\")\n",
    "multi_plot.set_xlabel(\"Drug Regimen\")\n",
    "multi_plot.set_title(\"Tumor Volume Statitics\")\n",
    "plt.show()\n",
    "plt.tight_layout()\n"
   ]
  },
  {
   "cell_type": "code",
   "execution_count": null,
   "metadata": {},
   "outputs": [],
   "source": [
    "# Generate a bar plot showing number of data points for each treatment regimen using pyplot\n",
    "# Setting the positions and width for the bars\n",
    "pos = list(range(len(drug_summary_df['Mean']))) \n",
    "width = 0.1\n",
    "  #  'b', 'r', 'g', 'y', 'k'\n",
    "# Plotting the bars\n",
    "fig, ax = plt.subplots(figsize=(15,10))\n",
    "#plt.axis('off')\n",
    "plt.grid(b=None)\n",
    "\n",
    "# Create a bar with pre_score data,\n",
    "# in position pos,\n",
    "plt.bar(pos, \n",
    "        drug_summary_df['Mean'], \n",
    "        # of width\n",
    "        width, \n",
    "        # with alpha 0.5\n",
    "        alpha=0.5, \n",
    "        # with color\n",
    "        color='b', \n",
    "        # with label the first value in first_name\n",
    "        label=drug_summary_df['Drug Regimen'][0]) \n",
    "\n",
    "# Create a bar with mid_score data,\n",
    "# in position pos + some width buffer,\n",
    "plt.bar([p + width for p in pos], \n",
    "        #using df['mid_score'] data,\n",
    "        drug_summary_df['SD'],\n",
    "        # of width\n",
    "        width, \n",
    "        # with alpha 0.5\n",
    "        alpha=0.5, \n",
    "        # with color\n",
    "       color='r', \n",
    "        # with label the second value in first_name\n",
    "        label=drug_summary_df['Drug Regimen'][1]) \n",
    "\n",
    "# Create a bar with post_score data,\n",
    "# in position pos + some width buffer,\n",
    "plt.bar([p + width*2 for p in pos], \n",
    "        #using df['post_score'] data,\n",
    "        drug_summary_df['Variance'], \n",
    "        # of width\n",
    "        width, \n",
    "        # with alpha 0.5\n",
    "        alpha=0.5, \n",
    "        # with color\n",
    "       color='g', \n",
    "        # with label the third value in first_name\n",
    "        label=drug_summary_df['Drug Regimen'][2]) \n",
    "\n",
    "plt.bar([p + width*3 for p in pos], \n",
    "        #using df['post_score'] data,\n",
    "        drug_summary_df['Median'], \n",
    "        # of width\n",
    "        width, \n",
    "        # with alpha 0.5\n",
    "        alpha=0.5, \n",
    "        # with color\n",
    "        color='y', \n",
    "        # with label the third value in first_name\n",
    "        label=drug_summary_df['Drug Regimen'][3]) \n",
    "\n",
    "plt.bar([p + width*4 for p in pos], \n",
    "        #using df['post_score'] data,\n",
    "        drug_summary_df['SEM'], \n",
    "        # of width\n",
    "        width, \n",
    "        # with alpha 0.5\n",
    "        alpha=0.5, \n",
    "        # with color\n",
    "        color='k', \n",
    "        # with label the third value in first_name\n",
    "        label=drug_summary_df['Drug Regimen'][4]) \n",
    "\n",
    "# Set the y axis label\n",
    "ax.set_ylabel('Tumor Volume (mm3)')\n",
    "\n",
    "# Set the y axis label\n",
    "ax.set_xlabel('Drug Regimen')\n",
    "\n",
    "# Set the chart's title\n",
    "ax.set_title('Tumor Volume Statitics')\n",
    "\n",
    "# Set the position of the x ticks\n",
    "ax.set_xticks([p + 1.5 * width for p in pos])\n",
    "\n",
    "# Set the labels for the x ticks\n",
    "ax.set_xticklabels(drug_summary_df['Drug Regimen'])\n",
    "\n",
    "\n",
    "# Adding the legend and showing the plot\n",
    "plt.legend(['Mean', 'SD', 'Variance','Median', 'SEM'], loc='upper right')\n",
    "plt.grid()\n",
    "plt.show()\n",
    "\n",
    "\n",
    "\n"
   ]
  },
  {
   "cell_type": "markdown",
   "metadata": {},
   "source": [
    "## Pie plots"
   ]
  },
  {
   "cell_type": "code",
   "execution_count": null,
   "metadata": {},
   "outputs": [],
   "source": [
    "# Generate a pie plot showing the distribution of female versus male mice using pandas\n",
    "mouse_sex_group = mouse_metadata.groupby('Sex' ,as_index=False )['Mouse ID'].count().rename(columns={'Mouse ID':'Number Of Mice by Sex'})\n",
    "mouse_sex_group.plot(kind='pie',  y = 'Number Of Mice by Sex', autopct='%1.1f%%' , startangle=40, shadow=True, labels=mouse_sex_group['Sex'], legend = False, fontsize=14)\n"
   ]
  },
  {
   "cell_type": "code",
   "execution_count": null,
   "metadata": {},
   "outputs": [],
   "source": [
    "# Generate a pie plot showing the distribution of female versus male mice using pyplot\n",
    "# Labels for the sections of our pie chart\n",
    "mouse_sex_list = mouse_sex_group[\"Sex\"].values.tolist()\n",
    "mouse_number_list = mouse_sex_group[\"Number Of Mice by Sex\"].values.tolist()\n",
    "plt.pie(mouse_number_list,  labels=mouse_sex_list, autopct=\"%1.1f%%\", shadow=True, startangle=40) \n",
    "plt.title(\"Number Of Mice by Sex\")"
   ]
  },
  {
   "cell_type": "markdown",
   "metadata": {},
   "source": [
    "## Quartiles, outliers and boxplots"
   ]
  },
  {
   "cell_type": "code",
   "execution_count": null,
   "metadata": {},
   "outputs": [],
   "source": [
    "# Calculate the final tumor volume of each mouse across four of the most promising treatment regimens. \n",
    "#Calculate the IQR and quantitatively determine if there are any potential outliers.\n",
    "Mouse_Study_combined_subset = Mouse_Study_combined_df[['Mouse ID','Tumor Volume (mm3)']].loc[Mouse_Study_combined_df['Drug Regimen'].isin(['Capomulin','Propriva','Ketapril','Ramicane'])]\n",
    "Mouse_Study_combined_subset_average_vol = Mouse_Study_combined_subset.groupby('Mouse ID' ,as_index=False)['Tumor Volume (mm3)'].agg({'Last':'last'})\n",
    "\n",
    "del Mouse_Study_combined_subset_average_vol['Mouse ID']\n",
    "Mouse_Study_combined_subset_average_vol_list = Mouse_Study_combined_subset_average_vol['Last']\n",
    "Mouse_Study_combined_subset_average_vol_list\n",
    "quartiles = Mouse_Study_combined_subset_average_vol_list.quantile([.25,.5,.75])\n",
    "lowerq = quartiles[0.25]\n",
    "upperq = quartiles[0.75]\n",
    "iqr = upperq-lowerq\n",
    "\n",
    "print(f\"The lower quartile of Tumor Volume (mm3) is: {lowerq}\")\n",
    "print(f\"The upper quartile of Tumor Volume (mm3) is: {upperq}\")\n",
    "print(f\"The interquartile range of Tumor Volume (mm3) is: {iqr}\")\n",
    "print(f\"The  median of Tumor Volume (mm3) is: {quartiles[0.5]} \")\n",
    "\n",
    "lower_bound = lowerq - (1.5*iqr)\n",
    "upper_bound = upperq + (1.5*iqr)\n",
    "print(f\"Values below {lower_bound} could be outliers.\")\n",
    "print(f\"Values above {upper_bound} could be outliers.\")\n",
    "\n",
    "\n"
   ]
  },
  {
   "cell_type": "code",
   "execution_count": null,
   "metadata": {},
   "outputs": [],
   "source": [
    "# Generate a box plot of the final tumor volume of each mouse across four regimens of interest\n",
    "\n",
    "fig1, ax1 = plt.subplots()\n",
    "ax1.set_title('final tumor volume of each mouse across Drug Regimens - Capomulin,Propriva,Ketapril,Ramicane ')\n",
    "ax1.set_ylabel('Final Tumor Volume in (mm3) ')\n",
    "ax1.boxplot(Mouse_Study_combined_subset_average_vol_list)\n",
    "plt.show()\n"
   ]
  },
  {
   "cell_type": "markdown",
   "metadata": {},
   "source": [
    "## Line and scatter plots"
   ]
  },
  {
   "cell_type": "code",
   "execution_count": null,
   "metadata": {},
   "outputs": [],
   "source": [
    "# Generate a line plot of time point versus tumor volume for a mouse treated with Capomulin\n",
    "Mouse_Study_combined_df_b128 = Mouse_Study_combined_df.loc[Mouse_Study_combined_df['Mouse ID']=='b128']\n",
    "Mouse_Study_combined_df_b128.loc[Mouse_Study_combined_df_b128['Drug Regimen']=='Capomulin'].plot(kind='line',x='Timepoint',y='Tumor Volume (mm3)',color='red',title=\"mouseid = b128\")\n"
   ]
  },
  {
   "cell_type": "code",
   "execution_count": null,
   "metadata": {},
   "outputs": [],
   "source": [
    "%matplotlib notebook\n",
    "# Generate a scatter plot of mouse weight versus average tumor volume for the Capomulin regimen\n",
    "cap_weight = Mouse_Study_combined_df[['Weight (g)','Mouse ID']].loc[Mouse_Study_combined_df['Drug Regimen']=='Capomulin']\n",
    "x_axis = cap_weight.groupby(['Mouse ID'])['Weight (g)'].agg({'Weight':'first'})\n",
    "x_axis = x_axis['Weight']\n",
    "x_axis = x_axis.reset_index()\n",
    "x_axis = x_axis[\"Weight\"]\n",
    "cap_vol = Mouse_Study_combined_df[['Tumor Volume (mm3)','Mouse ID']].loc[Mouse_Study_combined_df['Drug Regimen']=='Capomulin']\n",
    "y_axis = cap_vol.groupby(['Mouse ID'])['Tumor Volume (mm3)'].agg({'Mean':np.mean})\n",
    "y_axis = y_axis.reset_index()\n",
    "y_axis = y_axis['Mean']\n",
    "(slope, intercept, rvalue, pvalue, stderr) = linregress(x_axis, y_axis)\n",
    "regress_values = x_axis * slope + intercept\n",
    "line_eq = \"y = \" + str(round(slope,2)) + \"x + \" + str(round(intercept,2))\n",
    "plt.scatter(x_axis,y_axis)\n",
    "\n",
    "plt.xlabel('Mouse Weight')\n",
    "plt.ylabel('Tumor Volume (mm3)')\n",
    "plt.show()\n",
    "\n",
    "\n"
   ]
  },
  {
   "cell_type": "code",
   "execution_count": null,
   "metadata": {},
   "outputs": [],
   "source": [
    "plt.plot(x_axis,regress_values,\"r-\")\n",
    "plt.annotate(line_eq,(19,38),fontsize=15,color=\"red\")\n",
    "print(f\"The correlation coefficient is: {rvalue}\")\n",
    "plt.show()\n"
   ]
  },
  {
   "cell_type": "code",
   "execution_count": null,
   "metadata": {},
   "outputs": [],
   "source": []
  }
 ],
 "metadata": {
  "anaconda-cloud": {},
  "kernelspec": {
   "display_name": "Python 3",
   "language": "python",
   "name": "python3"
  },
  "language_info": {
   "codemirror_mode": {
    "name": "ipython",
    "version": 3
   },
   "file_extension": ".py",
   "mimetype": "text/x-python",
   "name": "python",
   "nbconvert_exporter": "python",
   "pygments_lexer": "ipython3",
   "version": "3.6.9"
  }
 },
 "nbformat": 4,
 "nbformat_minor": 2
}
